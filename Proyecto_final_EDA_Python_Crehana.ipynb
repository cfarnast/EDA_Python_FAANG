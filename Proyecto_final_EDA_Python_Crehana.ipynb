{
 "cells": [
  {
   "cell_type": "markdown",
   "id": "9a6d9ceb",
   "metadata": {},
   "source": [
    "                                                CREHANA\n",
    "                         Proyecto final EDA con Python - Instructor: Richard Rivas\n",
    "                                    Alumno: Christian Farnast Contardo"
   ]
  },
  {
   "cell_type": "markdown",
   "id": "dedc8bcb",
   "metadata": {},
   "source": [
    "### 1. Carga de librerias"
   ]
  },
  {
   "cell_type": "code",
   "execution_count": 1,
   "id": "2ed66bda",
   "metadata": {},
   "outputs": [],
   "source": [
    "import numpy as np\n",
    "import pandas as pd\n",
    "import matplotlib.pyplot as plt\n",
    "import seaborn as sns"
   ]
  },
  {
   "cell_type": "markdown",
   "id": "404da8cd",
   "metadata": {},
   "source": [
    "### 2. Importación del dataset"
   ]
  },
  {
   "cell_type": "code",
   "execution_count": 4,
   "id": "c12e15c6",
   "metadata": {},
   "outputs": [],
   "source": [
    "df = pd.read_csv('levels_fyi_salary_data.csv')"
   ]
  },
  {
   "cell_type": "code",
   "execution_count": 5,
   "id": "a7f02ef0",
   "metadata": {},
   "outputs": [
    {
     "data": {
      "text/html": [
       "<div>\n",
       "<style scoped>\n",
       "    .dataframe tbody tr th:only-of-type {\n",
       "        vertical-align: middle;\n",
       "    }\n",
       "\n",
       "    .dataframe tbody tr th {\n",
       "        vertical-align: top;\n",
       "    }\n",
       "\n",
       "    .dataframe thead th {\n",
       "        text-align: right;\n",
       "    }\n",
       "</style>\n",
       "<table border=\"1\" class=\"dataframe\">\n",
       "  <thead>\n",
       "    <tr style=\"text-align: right;\">\n",
       "      <th></th>\n",
       "      <th>timestamp</th>\n",
       "      <th>company</th>\n",
       "      <th>level</th>\n",
       "      <th>title</th>\n",
       "      <th>totalyearlycompensation</th>\n",
       "      <th>location</th>\n",
       "      <th>yearsofexperience</th>\n",
       "      <th>yearsatcompany</th>\n",
       "      <th>tag</th>\n",
       "      <th>basesalary</th>\n",
       "      <th>...</th>\n",
       "      <th>Doctorate_Degree</th>\n",
       "      <th>Highschool</th>\n",
       "      <th>Some_College</th>\n",
       "      <th>Race_Asian</th>\n",
       "      <th>Race_White</th>\n",
       "      <th>Race_Two_Or_More</th>\n",
       "      <th>Race_Black</th>\n",
       "      <th>Race_Hispanic</th>\n",
       "      <th>Race</th>\n",
       "      <th>Education</th>\n",
       "    </tr>\n",
       "  </thead>\n",
       "  <tbody>\n",
       "    <tr>\n",
       "      <th>0</th>\n",
       "      <td>6/7/2017 11:33:27</td>\n",
       "      <td>Oracle</td>\n",
       "      <td>L3</td>\n",
       "      <td>Product Manager</td>\n",
       "      <td>127000</td>\n",
       "      <td>Redwood City, CA</td>\n",
       "      <td>1.5</td>\n",
       "      <td>1.5</td>\n",
       "      <td>NaN</td>\n",
       "      <td>107000.0</td>\n",
       "      <td>...</td>\n",
       "      <td>0</td>\n",
       "      <td>0</td>\n",
       "      <td>0</td>\n",
       "      <td>0</td>\n",
       "      <td>0</td>\n",
       "      <td>0</td>\n",
       "      <td>0</td>\n",
       "      <td>0</td>\n",
       "      <td>NaN</td>\n",
       "      <td>NaN</td>\n",
       "    </tr>\n",
       "    <tr>\n",
       "      <th>1</th>\n",
       "      <td>6/10/2017 17:11:29</td>\n",
       "      <td>eBay</td>\n",
       "      <td>SE 2</td>\n",
       "      <td>Software Engineer</td>\n",
       "      <td>100000</td>\n",
       "      <td>San Francisco, CA</td>\n",
       "      <td>5.0</td>\n",
       "      <td>3.0</td>\n",
       "      <td>NaN</td>\n",
       "      <td>0.0</td>\n",
       "      <td>...</td>\n",
       "      <td>0</td>\n",
       "      <td>0</td>\n",
       "      <td>0</td>\n",
       "      <td>0</td>\n",
       "      <td>0</td>\n",
       "      <td>0</td>\n",
       "      <td>0</td>\n",
       "      <td>0</td>\n",
       "      <td>NaN</td>\n",
       "      <td>NaN</td>\n",
       "    </tr>\n",
       "    <tr>\n",
       "      <th>2</th>\n",
       "      <td>6/11/2017 14:53:57</td>\n",
       "      <td>Amazon</td>\n",
       "      <td>L7</td>\n",
       "      <td>Product Manager</td>\n",
       "      <td>310000</td>\n",
       "      <td>Seattle, WA</td>\n",
       "      <td>8.0</td>\n",
       "      <td>0.0</td>\n",
       "      <td>NaN</td>\n",
       "      <td>155000.0</td>\n",
       "      <td>...</td>\n",
       "      <td>0</td>\n",
       "      <td>0</td>\n",
       "      <td>0</td>\n",
       "      <td>0</td>\n",
       "      <td>0</td>\n",
       "      <td>0</td>\n",
       "      <td>0</td>\n",
       "      <td>0</td>\n",
       "      <td>NaN</td>\n",
       "      <td>NaN</td>\n",
       "    </tr>\n",
       "    <tr>\n",
       "      <th>3</th>\n",
       "      <td>6/17/2017 0:23:14</td>\n",
       "      <td>Apple</td>\n",
       "      <td>M1</td>\n",
       "      <td>Software Engineering Manager</td>\n",
       "      <td>372000</td>\n",
       "      <td>Sunnyvale, CA</td>\n",
       "      <td>7.0</td>\n",
       "      <td>5.0</td>\n",
       "      <td>NaN</td>\n",
       "      <td>157000.0</td>\n",
       "      <td>...</td>\n",
       "      <td>0</td>\n",
       "      <td>0</td>\n",
       "      <td>0</td>\n",
       "      <td>0</td>\n",
       "      <td>0</td>\n",
       "      <td>0</td>\n",
       "      <td>0</td>\n",
       "      <td>0</td>\n",
       "      <td>NaN</td>\n",
       "      <td>NaN</td>\n",
       "    </tr>\n",
       "    <tr>\n",
       "      <th>4</th>\n",
       "      <td>6/20/2017 10:58:51</td>\n",
       "      <td>Microsoft</td>\n",
       "      <td>60</td>\n",
       "      <td>Software Engineer</td>\n",
       "      <td>157000</td>\n",
       "      <td>Mountain View, CA</td>\n",
       "      <td>5.0</td>\n",
       "      <td>3.0</td>\n",
       "      <td>NaN</td>\n",
       "      <td>0.0</td>\n",
       "      <td>...</td>\n",
       "      <td>0</td>\n",
       "      <td>0</td>\n",
       "      <td>0</td>\n",
       "      <td>0</td>\n",
       "      <td>0</td>\n",
       "      <td>0</td>\n",
       "      <td>0</td>\n",
       "      <td>0</td>\n",
       "      <td>NaN</td>\n",
       "      <td>NaN</td>\n",
       "    </tr>\n",
       "  </tbody>\n",
       "</table>\n",
       "<p>5 rows × 29 columns</p>\n",
       "</div>"
      ],
      "text/plain": [
       "            timestamp    company level                         title  \\\n",
       "0   6/7/2017 11:33:27     Oracle    L3               Product Manager   \n",
       "1  6/10/2017 17:11:29       eBay  SE 2             Software Engineer   \n",
       "2  6/11/2017 14:53:57     Amazon    L7               Product Manager   \n",
       "3   6/17/2017 0:23:14      Apple    M1  Software Engineering Manager   \n",
       "4  6/20/2017 10:58:51  Microsoft    60             Software Engineer   \n",
       "\n",
       "   totalyearlycompensation           location  yearsofexperience  \\\n",
       "0                   127000   Redwood City, CA                1.5   \n",
       "1                   100000  San Francisco, CA                5.0   \n",
       "2                   310000        Seattle, WA                8.0   \n",
       "3                   372000      Sunnyvale, CA                7.0   \n",
       "4                   157000  Mountain View, CA                5.0   \n",
       "\n",
       "   yearsatcompany  tag  basesalary  ...  Doctorate_Degree  Highschool  \\\n",
       "0             1.5  NaN    107000.0  ...                 0           0   \n",
       "1             3.0  NaN         0.0  ...                 0           0   \n",
       "2             0.0  NaN    155000.0  ...                 0           0   \n",
       "3             5.0  NaN    157000.0  ...                 0           0   \n",
       "4             3.0  NaN         0.0  ...                 0           0   \n",
       "\n",
       "  Some_College Race_Asian  Race_White  Race_Two_Or_More  Race_Black  \\\n",
       "0            0          0           0                 0           0   \n",
       "1            0          0           0                 0           0   \n",
       "2            0          0           0                 0           0   \n",
       "3            0          0           0                 0           0   \n",
       "4            0          0           0                 0           0   \n",
       "\n",
       "   Race_Hispanic  Race  Education  \n",
       "0              0   NaN        NaN  \n",
       "1              0   NaN        NaN  \n",
       "2              0   NaN        NaN  \n",
       "3              0   NaN        NaN  \n",
       "4              0   NaN        NaN  \n",
       "\n",
       "[5 rows x 29 columns]"
      ]
     },
     "execution_count": 5,
     "metadata": {},
     "output_type": "execute_result"
    }
   ],
   "source": [
    "df.head()"
   ]
  },
  {
   "cell_type": "code",
   "execution_count": 18,
   "id": "05e036d2",
   "metadata": {},
   "outputs": [
    {
     "data": {
      "text/html": [
       "<div>\n",
       "<style scoped>\n",
       "    .dataframe tbody tr th:only-of-type {\n",
       "        vertical-align: middle;\n",
       "    }\n",
       "\n",
       "    .dataframe tbody tr th {\n",
       "        vertical-align: top;\n",
       "    }\n",
       "\n",
       "    .dataframe thead th {\n",
       "        text-align: right;\n",
       "    }\n",
       "</style>\n",
       "<table border=\"1\" class=\"dataframe\">\n",
       "  <thead>\n",
       "    <tr style=\"text-align: right;\">\n",
       "      <th></th>\n",
       "      <th>timestamp</th>\n",
       "      <th>company</th>\n",
       "      <th>level</th>\n",
       "      <th>title</th>\n",
       "      <th>totalyearlycompensation</th>\n",
       "      <th>location</th>\n",
       "      <th>yearsofexperience</th>\n",
       "      <th>yearsatcompany</th>\n",
       "      <th>tag</th>\n",
       "      <th>basesalary</th>\n",
       "      <th>...</th>\n",
       "      <th>Doctorate_Degree</th>\n",
       "      <th>Highschool</th>\n",
       "      <th>Some_College</th>\n",
       "      <th>Race_Asian</th>\n",
       "      <th>Race_White</th>\n",
       "      <th>Race_Two_Or_More</th>\n",
       "      <th>Race_Black</th>\n",
       "      <th>Race_Hispanic</th>\n",
       "      <th>Race</th>\n",
       "      <th>Education</th>\n",
       "    </tr>\n",
       "  </thead>\n",
       "  <tbody>\n",
       "    <tr>\n",
       "      <th>62637</th>\n",
       "      <td>9/9/2018 11:52:32</td>\n",
       "      <td>Google</td>\n",
       "      <td>T4</td>\n",
       "      <td>Software Engineer</td>\n",
       "      <td>327000</td>\n",
       "      <td>Seattle, WA</td>\n",
       "      <td>10.0</td>\n",
       "      <td>1.0</td>\n",
       "      <td>Distributed Systems (Back-End)</td>\n",
       "      <td>155000.0</td>\n",
       "      <td>...</td>\n",
       "      <td>0</td>\n",
       "      <td>0</td>\n",
       "      <td>0</td>\n",
       "      <td>0</td>\n",
       "      <td>0</td>\n",
       "      <td>0</td>\n",
       "      <td>0</td>\n",
       "      <td>0</td>\n",
       "      <td>188000.0</td>\n",
       "      <td>188000.0</td>\n",
       "    </tr>\n",
       "    <tr>\n",
       "      <th>62638</th>\n",
       "      <td>9/13/2018 8:23:32</td>\n",
       "      <td>Microsoft</td>\n",
       "      <td>62</td>\n",
       "      <td>Software Engineer</td>\n",
       "      <td>237000</td>\n",
       "      <td>Redmond, WA</td>\n",
       "      <td>2.0</td>\n",
       "      <td>2.0</td>\n",
       "      <td>Full Stack</td>\n",
       "      <td>146900.0</td>\n",
       "      <td>...</td>\n",
       "      <td>0</td>\n",
       "      <td>0</td>\n",
       "      <td>0</td>\n",
       "      <td>0</td>\n",
       "      <td>0</td>\n",
       "      <td>0</td>\n",
       "      <td>0</td>\n",
       "      <td>0</td>\n",
       "      <td>188000.0</td>\n",
       "      <td>188000.0</td>\n",
       "    </tr>\n",
       "    <tr>\n",
       "      <th>62639</th>\n",
       "      <td>9/13/2018 14:35:59</td>\n",
       "      <td>MSFT</td>\n",
       "      <td>63</td>\n",
       "      <td>Software Engineer</td>\n",
       "      <td>220000</td>\n",
       "      <td>Seattle, WA</td>\n",
       "      <td>14.0</td>\n",
       "      <td>12.0</td>\n",
       "      <td>Full Stack</td>\n",
       "      <td>157000.0</td>\n",
       "      <td>...</td>\n",
       "      <td>0</td>\n",
       "      <td>0</td>\n",
       "      <td>0</td>\n",
       "      <td>0</td>\n",
       "      <td>0</td>\n",
       "      <td>0</td>\n",
       "      <td>0</td>\n",
       "      <td>0</td>\n",
       "      <td>188000.0</td>\n",
       "      <td>188000.0</td>\n",
       "    </tr>\n",
       "    <tr>\n",
       "      <th>62640</th>\n",
       "      <td>9/16/2018 16:10:35</td>\n",
       "      <td>Salesforce</td>\n",
       "      <td>Lead MTS</td>\n",
       "      <td>Software Engineer</td>\n",
       "      <td>280000</td>\n",
       "      <td>San Francisco, CA</td>\n",
       "      <td>8.0</td>\n",
       "      <td>4.0</td>\n",
       "      <td>iOS</td>\n",
       "      <td>194688.0</td>\n",
       "      <td>...</td>\n",
       "      <td>0</td>\n",
       "      <td>0</td>\n",
       "      <td>0</td>\n",
       "      <td>0</td>\n",
       "      <td>0</td>\n",
       "      <td>0</td>\n",
       "      <td>0</td>\n",
       "      <td>0</td>\n",
       "      <td>188000.0</td>\n",
       "      <td>188000.0</td>\n",
       "    </tr>\n",
       "    <tr>\n",
       "      <th>62641</th>\n",
       "      <td>1/29/2019 5:12:59</td>\n",
       "      <td>apple</td>\n",
       "      <td>ict3</td>\n",
       "      <td>Software Engineer</td>\n",
       "      <td>200000</td>\n",
       "      <td>Sunnyvale, CA</td>\n",
       "      <td>0.0</td>\n",
       "      <td>0.0</td>\n",
       "      <td>ML / AI</td>\n",
       "      <td>155000.0</td>\n",
       "      <td>...</td>\n",
       "      <td>0</td>\n",
       "      <td>0</td>\n",
       "      <td>0</td>\n",
       "      <td>0</td>\n",
       "      <td>0</td>\n",
       "      <td>0</td>\n",
       "      <td>0</td>\n",
       "      <td>0</td>\n",
       "      <td>188000.0</td>\n",
       "      <td>188000.0</td>\n",
       "    </tr>\n",
       "  </tbody>\n",
       "</table>\n",
       "<p>5 rows × 29 columns</p>\n",
       "</div>"
      ],
      "text/plain": [
       "                timestamp     company     level              title  \\\n",
       "62637   9/9/2018 11:52:32      Google        T4  Software Engineer   \n",
       "62638   9/13/2018 8:23:32   Microsoft        62  Software Engineer   \n",
       "62639  9/13/2018 14:35:59        MSFT        63  Software Engineer   \n",
       "62640  9/16/2018 16:10:35  Salesforce  Lead MTS  Software Engineer   \n",
       "62641   1/29/2019 5:12:59       apple      ict3  Software Engineer   \n",
       "\n",
       "       totalyearlycompensation           location  yearsofexperience  \\\n",
       "62637                   327000        Seattle, WA               10.0   \n",
       "62638                   237000        Redmond, WA                2.0   \n",
       "62639                   220000        Seattle, WA               14.0   \n",
       "62640                   280000  San Francisco, CA                8.0   \n",
       "62641                   200000      Sunnyvale, CA                0.0   \n",
       "\n",
       "       yearsatcompany                             tag  basesalary  ...  \\\n",
       "62637             1.0  Distributed Systems (Back-End)    155000.0  ...   \n",
       "62638             2.0                      Full Stack    146900.0  ...   \n",
       "62639            12.0                      Full Stack    157000.0  ...   \n",
       "62640             4.0                             iOS    194688.0  ...   \n",
       "62641             0.0                         ML / AI    155000.0  ...   \n",
       "\n",
       "       Doctorate_Degree  Highschool Some_College Race_Asian  Race_White  \\\n",
       "62637                 0           0            0          0           0   \n",
       "62638                 0           0            0          0           0   \n",
       "62639                 0           0            0          0           0   \n",
       "62640                 0           0            0          0           0   \n",
       "62641                 0           0            0          0           0   \n",
       "\n",
       "       Race_Two_Or_More  Race_Black  Race_Hispanic      Race  Education  \n",
       "62637                 0           0              0  188000.0   188000.0  \n",
       "62638                 0           0              0  188000.0   188000.0  \n",
       "62639                 0           0              0  188000.0   188000.0  \n",
       "62640                 0           0              0  188000.0   188000.0  \n",
       "62641                 0           0              0  188000.0   188000.0  \n",
       "\n",
       "[5 rows x 29 columns]"
      ]
     },
     "execution_count": 18,
     "metadata": {},
     "output_type": "execute_result"
    }
   ],
   "source": [
    "df.tail()"
   ]
  },
  {
   "cell_type": "markdown",
   "id": "d72d12dc",
   "metadata": {},
   "source": [
    "### 3. Deteccion de valores faltantes y respectivos reemplazos"
   ]
  },
  {
   "cell_type": "code",
   "execution_count": 6,
   "id": "87c792b0",
   "metadata": {},
   "outputs": [
    {
     "data": {
      "text/plain": [
       "timestamp                      0\n",
       "company                        5\n",
       "level                        119\n",
       "title                          0\n",
       "totalyearlycompensation        0\n",
       "location                       0\n",
       "yearsofexperience              0\n",
       "yearsatcompany                 0\n",
       "tag                          854\n",
       "basesalary                     0\n",
       "stockgrantvalue                0\n",
       "bonus                          0\n",
       "gender                     19540\n",
       "otherdetails               22505\n",
       "cityid                         0\n",
       "dmaid                          2\n",
       "rowNumber                      0\n",
       "Masters_Degree                 0\n",
       "Bachelors_Degree               0\n",
       "Doctorate_Degree               0\n",
       "Highschool                     0\n",
       "Some_College                   0\n",
       "Race_Asian                     0\n",
       "Race_White                     0\n",
       "Race_Two_Or_More               0\n",
       "Race_Black                     0\n",
       "Race_Hispanic                  0\n",
       "Race                       40215\n",
       "Education                  32272\n",
       "dtype: int64"
      ]
     },
     "execution_count": 6,
     "metadata": {},
     "output_type": "execute_result"
    }
   ],
   "source": [
    "# Veamos cuantos valores perdidos hay\n",
    "df.isnull().sum()"
   ]
  },
  {
   "cell_type": "code",
   "execution_count": 12,
   "id": "b6d9cad7",
   "metadata": {},
   "outputs": [],
   "source": [
    "# Veamos en profundidad los valores faltantes\n",
    "# En el caso de company son solo 5 valores faltantes, por cuanto no afecta en demasia el eliminarlos.\n",
    "df.dropna(subset = 'company', axis = 0, inplace = True)"
   ]
  },
  {
   "cell_type": "code",
   "execution_count": 13,
   "id": "8b4f6285",
   "metadata": {},
   "outputs": [
    {
     "data": {
      "text/plain": [
       "0"
      ]
     },
     "execution_count": 13,
     "metadata": {},
     "output_type": "execute_result"
    }
   ],
   "source": [
    "# si hago una confirmacion para company, arroja cero valores faltantes\n",
    "df['company'].isnull().sum()"
   ]
  },
  {
   "cell_type": "code",
   "execution_count": 14,
   "id": "2a14579f",
   "metadata": {},
   "outputs": [],
   "source": [
    "# Arreglemos el resto\n",
    "col_numericas = df.select_dtypes(['float64','int64'])\n",
    "col_categoricas = df.select_dtypes(['object'])\n",
    "for i in col_numericas.columns:\n",
    "    df.fillna(df[i].median(), inplace = True) \n",
    "for i in col_categoricas:\n",
    "    df.fillna(df[i].mode(), inplace = True)"
   ]
  },
  {
   "cell_type": "code",
   "execution_count": 15,
   "id": "30dc448d",
   "metadata": {},
   "outputs": [
    {
     "data": {
      "text/plain": [
       "timestamp                  0\n",
       "company                    0\n",
       "level                      0\n",
       "title                      0\n",
       "totalyearlycompensation    0\n",
       "location                   0\n",
       "yearsofexperience          0\n",
       "yearsatcompany             0\n",
       "tag                        0\n",
       "basesalary                 0\n",
       "stockgrantvalue            0\n",
       "bonus                      0\n",
       "gender                     0\n",
       "otherdetails               0\n",
       "cityid                     0\n",
       "dmaid                      0\n",
       "rowNumber                  0\n",
       "Masters_Degree             0\n",
       "Bachelors_Degree           0\n",
       "Doctorate_Degree           0\n",
       "Highschool                 0\n",
       "Some_College               0\n",
       "Race_Asian                 0\n",
       "Race_White                 0\n",
       "Race_Two_Or_More           0\n",
       "Race_Black                 0\n",
       "Race_Hispanic              0\n",
       "Race                       0\n",
       "Education                  0\n",
       "dtype: int64"
      ]
     },
     "execution_count": 15,
     "metadata": {},
     "output_type": "execute_result"
    }
   ],
   "source": [
    "# Chequeo de valores nulos (Checking for missing values)\n",
    "df.isnull().sum()\n",
    "#Listo!, sin valores faltantes. (Ready!, no NaN values)"
   ]
  },
  {
   "cell_type": "code",
   "execution_count": 17,
   "id": "d2a231e4",
   "metadata": {},
   "outputs": [
    {
     "name": "stdout",
     "output_type": "stream",
     "text": [
      "<class 'pandas.core.frame.DataFrame'>\n",
      "Int64Index: 62637 entries, 0 to 62641\n",
      "Data columns (total 29 columns):\n",
      " #   Column                   Non-Null Count  Dtype  \n",
      "---  ------                   --------------  -----  \n",
      " 0   timestamp                62637 non-null  object \n",
      " 1   company                  62637 non-null  object \n",
      " 2   level                    62637 non-null  object \n",
      " 3   title                    62637 non-null  object \n",
      " 4   totalyearlycompensation  62637 non-null  int64  \n",
      " 5   location                 62637 non-null  object \n",
      " 6   yearsofexperience        62637 non-null  float64\n",
      " 7   yearsatcompany           62637 non-null  float64\n",
      " 8   tag                      62637 non-null  object \n",
      " 9   basesalary               62637 non-null  float64\n",
      " 10  stockgrantvalue          62637 non-null  float64\n",
      " 11  bonus                    62637 non-null  float64\n",
      " 12  gender                   62637 non-null  object \n",
      " 13  otherdetails             62637 non-null  object \n",
      " 14  cityid                   62637 non-null  int64  \n",
      " 15  dmaid                    62637 non-null  float64\n",
      " 16  rowNumber                62637 non-null  int64  \n",
      " 17  Masters_Degree           62637 non-null  int64  \n",
      " 18  Bachelors_Degree         62637 non-null  int64  \n",
      " 19  Doctorate_Degree         62637 non-null  int64  \n",
      " 20  Highschool               62637 non-null  int64  \n",
      " 21  Some_College             62637 non-null  int64  \n",
      " 22  Race_Asian               62637 non-null  int64  \n",
      " 23  Race_White               62637 non-null  int64  \n",
      " 24  Race_Two_Or_More         62637 non-null  int64  \n",
      " 25  Race_Black               62637 non-null  int64  \n",
      " 26  Race_Hispanic            62637 non-null  int64  \n",
      " 27  Race                     62637 non-null  object \n",
      " 28  Education                62637 non-null  object \n",
      "dtypes: float64(6), int64(13), object(10)\n",
      "memory usage: 14.3+ MB\n"
     ]
    }
   ],
   "source": [
    "#Hagamos un poco de analisis exploratorio (Let's make some EDA)\n",
    "df.info()"
   ]
  },
  {
   "cell_type": "code",
   "execution_count": 21,
   "id": "e84812bf",
   "metadata": {},
   "outputs": [],
   "source": [
    "# La variable timestamp no tiene formato de fecha, sin embargo para efectos de estudio no es necesario por cuanto esta \n",
    "# columna será borrada.\n",
    "# Las demas variables tienen formato acorde\n",
    "df.drop('timestamp', axis = 1, inplace = True)"
   ]
  },
  {
   "cell_type": "code",
   "execution_count": 22,
   "id": "9754a671",
   "metadata": {},
   "outputs": [
    {
     "data": {
      "text/html": [
       "<div>\n",
       "<style scoped>\n",
       "    .dataframe tbody tr th:only-of-type {\n",
       "        vertical-align: middle;\n",
       "    }\n",
       "\n",
       "    .dataframe tbody tr th {\n",
       "        vertical-align: top;\n",
       "    }\n",
       "\n",
       "    .dataframe thead th {\n",
       "        text-align: right;\n",
       "    }\n",
       "</style>\n",
       "<table border=\"1\" class=\"dataframe\">\n",
       "  <thead>\n",
       "    <tr style=\"text-align: right;\">\n",
       "      <th></th>\n",
       "      <th>totalyearlycompensation</th>\n",
       "      <th>yearsofexperience</th>\n",
       "      <th>yearsatcompany</th>\n",
       "      <th>basesalary</th>\n",
       "      <th>stockgrantvalue</th>\n",
       "      <th>bonus</th>\n",
       "      <th>cityid</th>\n",
       "      <th>dmaid</th>\n",
       "      <th>rowNumber</th>\n",
       "      <th>Masters_Degree</th>\n",
       "      <th>Bachelors_Degree</th>\n",
       "      <th>Doctorate_Degree</th>\n",
       "      <th>Highschool</th>\n",
       "      <th>Some_College</th>\n",
       "      <th>Race_Asian</th>\n",
       "      <th>Race_White</th>\n",
       "      <th>Race_Two_Or_More</th>\n",
       "      <th>Race_Black</th>\n",
       "      <th>Race_Hispanic</th>\n",
       "    </tr>\n",
       "  </thead>\n",
       "  <tbody>\n",
       "    <tr>\n",
       "      <th>count</th>\n",
       "      <td>6.263700e+04</td>\n",
       "      <td>62637.000000</td>\n",
       "      <td>62637.000000</td>\n",
       "      <td>6.263700e+04</td>\n",
       "      <td>6.263700e+04</td>\n",
       "      <td>62637.000000</td>\n",
       "      <td>62637.000000</td>\n",
       "      <td>62637.000000</td>\n",
       "      <td>62637.000000</td>\n",
       "      <td>62637.000000</td>\n",
       "      <td>62637.000000</td>\n",
       "      <td>62637.000000</td>\n",
       "      <td>62637.000000</td>\n",
       "      <td>62637.000000</td>\n",
       "      <td>62637.000000</td>\n",
       "      <td>62637.000000</td>\n",
       "      <td>62637.000000</td>\n",
       "      <td>62637.000000</td>\n",
       "      <td>62637.000000</td>\n",
       "    </tr>\n",
       "    <tr>\n",
       "      <th>mean</th>\n",
       "      <td>2.163082e+05</td>\n",
       "      <td>7.204279</td>\n",
       "      <td>2.702181</td>\n",
       "      <td>1.366894e+05</td>\n",
       "      <td>5.149019e+04</td>\n",
       "      <td>19335.491734</td>\n",
       "      <td>9856.423823</td>\n",
       "      <td>622.102910</td>\n",
       "      <td>41696.395262</td>\n",
       "      <td>0.245717</td>\n",
       "      <td>0.201207</td>\n",
       "      <td>0.028785</td>\n",
       "      <td>0.005109</td>\n",
       "      <td>0.005668</td>\n",
       "      <td>0.187940</td>\n",
       "      <td>0.128215</td>\n",
       "      <td>0.012836</td>\n",
       "      <td>0.011016</td>\n",
       "      <td>0.018024</td>\n",
       "    </tr>\n",
       "    <tr>\n",
       "      <th>std</th>\n",
       "      <td>1.380341e+05</td>\n",
       "      <td>5.840421</td>\n",
       "      <td>3.263748</td>\n",
       "      <td>6.136770e+04</td>\n",
       "      <td>8.187654e+04</td>\n",
       "      <td>26781.835252</td>\n",
       "      <td>6679.232355</td>\n",
       "      <td>1097.785185</td>\n",
       "      <td>24488.752872</td>\n",
       "      <td>0.430515</td>\n",
       "      <td>0.400906</td>\n",
       "      <td>0.167203</td>\n",
       "      <td>0.071294</td>\n",
       "      <td>0.075070</td>\n",
       "      <td>0.390667</td>\n",
       "      <td>0.334332</td>\n",
       "      <td>0.112567</td>\n",
       "      <td>0.104378</td>\n",
       "      <td>0.133041</td>\n",
       "    </tr>\n",
       "    <tr>\n",
       "      <th>min</th>\n",
       "      <td>1.000000e+04</td>\n",
       "      <td>0.000000</td>\n",
       "      <td>0.000000</td>\n",
       "      <td>0.000000e+00</td>\n",
       "      <td>0.000000e+00</td>\n",
       "      <td>0.000000</td>\n",
       "      <td>0.000000</td>\n",
       "      <td>0.000000</td>\n",
       "      <td>1.000000</td>\n",
       "      <td>0.000000</td>\n",
       "      <td>0.000000</td>\n",
       "      <td>0.000000</td>\n",
       "      <td>0.000000</td>\n",
       "      <td>0.000000</td>\n",
       "      <td>0.000000</td>\n",
       "      <td>0.000000</td>\n",
       "      <td>0.000000</td>\n",
       "      <td>0.000000</td>\n",
       "      <td>0.000000</td>\n",
       "    </tr>\n",
       "    <tr>\n",
       "      <th>25%</th>\n",
       "      <td>1.350000e+05</td>\n",
       "      <td>3.000000</td>\n",
       "      <td>0.000000</td>\n",
       "      <td>1.080000e+05</td>\n",
       "      <td>0.000000e+00</td>\n",
       "      <td>1000.000000</td>\n",
       "      <td>7369.000000</td>\n",
       "      <td>506.000000</td>\n",
       "      <td>20073.000000</td>\n",
       "      <td>0.000000</td>\n",
       "      <td>0.000000</td>\n",
       "      <td>0.000000</td>\n",
       "      <td>0.000000</td>\n",
       "      <td>0.000000</td>\n",
       "      <td>0.000000</td>\n",
       "      <td>0.000000</td>\n",
       "      <td>0.000000</td>\n",
       "      <td>0.000000</td>\n",
       "      <td>0.000000</td>\n",
       "    </tr>\n",
       "    <tr>\n",
       "      <th>50%</th>\n",
       "      <td>1.880000e+05</td>\n",
       "      <td>6.000000</td>\n",
       "      <td>2.000000</td>\n",
       "      <td>1.400000e+05</td>\n",
       "      <td>2.500000e+04</td>\n",
       "      <td>14000.000000</td>\n",
       "      <td>7839.000000</td>\n",
       "      <td>807.000000</td>\n",
       "      <td>42022.000000</td>\n",
       "      <td>0.000000</td>\n",
       "      <td>0.000000</td>\n",
       "      <td>0.000000</td>\n",
       "      <td>0.000000</td>\n",
       "      <td>0.000000</td>\n",
       "      <td>0.000000</td>\n",
       "      <td>0.000000</td>\n",
       "      <td>0.000000</td>\n",
       "      <td>0.000000</td>\n",
       "      <td>0.000000</td>\n",
       "    </tr>\n",
       "    <tr>\n",
       "      <th>75%</th>\n",
       "      <td>2.640000e+05</td>\n",
       "      <td>10.000000</td>\n",
       "      <td>4.000000</td>\n",
       "      <td>1.700000e+05</td>\n",
       "      <td>6.500000e+04</td>\n",
       "      <td>26000.000000</td>\n",
       "      <td>11521.000000</td>\n",
       "      <td>807.000000</td>\n",
       "      <td>63023.000000</td>\n",
       "      <td>0.000000</td>\n",
       "      <td>0.000000</td>\n",
       "      <td>0.000000</td>\n",
       "      <td>0.000000</td>\n",
       "      <td>0.000000</td>\n",
       "      <td>0.000000</td>\n",
       "      <td>0.000000</td>\n",
       "      <td>0.000000</td>\n",
       "      <td>0.000000</td>\n",
       "      <td>0.000000</td>\n",
       "    </tr>\n",
       "    <tr>\n",
       "      <th>max</th>\n",
       "      <td>4.980000e+06</td>\n",
       "      <td>69.000000</td>\n",
       "      <td>69.000000</td>\n",
       "      <td>1.659870e+06</td>\n",
       "      <td>2.800000e+06</td>\n",
       "      <td>1000000.000000</td>\n",
       "      <td>47926.000000</td>\n",
       "      <td>188000.000000</td>\n",
       "      <td>83875.000000</td>\n",
       "      <td>1.000000</td>\n",
       "      <td>1.000000</td>\n",
       "      <td>1.000000</td>\n",
       "      <td>1.000000</td>\n",
       "      <td>1.000000</td>\n",
       "      <td>1.000000</td>\n",
       "      <td>1.000000</td>\n",
       "      <td>1.000000</td>\n",
       "      <td>1.000000</td>\n",
       "      <td>1.000000</td>\n",
       "    </tr>\n",
       "  </tbody>\n",
       "</table>\n",
       "</div>"
      ],
      "text/plain": [
       "       totalyearlycompensation  yearsofexperience  yearsatcompany  \\\n",
       "count             6.263700e+04       62637.000000    62637.000000   \n",
       "mean              2.163082e+05           7.204279        2.702181   \n",
       "std               1.380341e+05           5.840421        3.263748   \n",
       "min               1.000000e+04           0.000000        0.000000   \n",
       "25%               1.350000e+05           3.000000        0.000000   \n",
       "50%               1.880000e+05           6.000000        2.000000   \n",
       "75%               2.640000e+05          10.000000        4.000000   \n",
       "max               4.980000e+06          69.000000       69.000000   \n",
       "\n",
       "         basesalary  stockgrantvalue           bonus        cityid  \\\n",
       "count  6.263700e+04     6.263700e+04    62637.000000  62637.000000   \n",
       "mean   1.366894e+05     5.149019e+04    19335.491734   9856.423823   \n",
       "std    6.136770e+04     8.187654e+04    26781.835252   6679.232355   \n",
       "min    0.000000e+00     0.000000e+00        0.000000      0.000000   \n",
       "25%    1.080000e+05     0.000000e+00     1000.000000   7369.000000   \n",
       "50%    1.400000e+05     2.500000e+04    14000.000000   7839.000000   \n",
       "75%    1.700000e+05     6.500000e+04    26000.000000  11521.000000   \n",
       "max    1.659870e+06     2.800000e+06  1000000.000000  47926.000000   \n",
       "\n",
       "               dmaid     rowNumber  Masters_Degree  Bachelors_Degree  \\\n",
       "count   62637.000000  62637.000000    62637.000000      62637.000000   \n",
       "mean      622.102910  41696.395262        0.245717          0.201207   \n",
       "std      1097.785185  24488.752872        0.430515          0.400906   \n",
       "min         0.000000      1.000000        0.000000          0.000000   \n",
       "25%       506.000000  20073.000000        0.000000          0.000000   \n",
       "50%       807.000000  42022.000000        0.000000          0.000000   \n",
       "75%       807.000000  63023.000000        0.000000          0.000000   \n",
       "max    188000.000000  83875.000000        1.000000          1.000000   \n",
       "\n",
       "       Doctorate_Degree    Highschool  Some_College    Race_Asian  \\\n",
       "count      62637.000000  62637.000000  62637.000000  62637.000000   \n",
       "mean           0.028785      0.005109      0.005668      0.187940   \n",
       "std            0.167203      0.071294      0.075070      0.390667   \n",
       "min            0.000000      0.000000      0.000000      0.000000   \n",
       "25%            0.000000      0.000000      0.000000      0.000000   \n",
       "50%            0.000000      0.000000      0.000000      0.000000   \n",
       "75%            0.000000      0.000000      0.000000      0.000000   \n",
       "max            1.000000      1.000000      1.000000      1.000000   \n",
       "\n",
       "         Race_White  Race_Two_Or_More    Race_Black  Race_Hispanic  \n",
       "count  62637.000000      62637.000000  62637.000000   62637.000000  \n",
       "mean       0.128215          0.012836      0.011016       0.018024  \n",
       "std        0.334332          0.112567      0.104378       0.133041  \n",
       "min        0.000000          0.000000      0.000000       0.000000  \n",
       "25%        0.000000          0.000000      0.000000       0.000000  \n",
       "50%        0.000000          0.000000      0.000000       0.000000  \n",
       "75%        0.000000          0.000000      0.000000       0.000000  \n",
       "max        1.000000          1.000000      1.000000       1.000000  "
      ]
     },
     "execution_count": 22,
     "metadata": {},
     "output_type": "execute_result"
    }
   ],
   "source": [
    "df.describe()"
   ]
  },
  {
   "cell_type": "code",
   "execution_count": 23,
   "id": "021df748",
   "metadata": {},
   "outputs": [
    {
     "data": {
      "text/html": [
       "<div>\n",
       "<style scoped>\n",
       "    .dataframe tbody tr th:only-of-type {\n",
       "        vertical-align: middle;\n",
       "    }\n",
       "\n",
       "    .dataframe tbody tr th {\n",
       "        vertical-align: top;\n",
       "    }\n",
       "\n",
       "    .dataframe thead th {\n",
       "        text-align: right;\n",
       "    }\n",
       "</style>\n",
       "<table border=\"1\" class=\"dataframe\">\n",
       "  <thead>\n",
       "    <tr style=\"text-align: right;\">\n",
       "      <th></th>\n",
       "      <th>company</th>\n",
       "      <th>level</th>\n",
       "      <th>title</th>\n",
       "      <th>location</th>\n",
       "      <th>tag</th>\n",
       "      <th>gender</th>\n",
       "      <th>otherdetails</th>\n",
       "      <th>Race</th>\n",
       "      <th>Education</th>\n",
       "    </tr>\n",
       "  </thead>\n",
       "  <tbody>\n",
       "    <tr>\n",
       "      <th>count</th>\n",
       "      <td>62637</td>\n",
       "      <td>62637</td>\n",
       "      <td>62637</td>\n",
       "      <td>62637</td>\n",
       "      <td>62637</td>\n",
       "      <td>62637</td>\n",
       "      <td>62637.0</td>\n",
       "      <td>62637.0</td>\n",
       "      <td>62637.0</td>\n",
       "    </tr>\n",
       "    <tr>\n",
       "      <th>unique</th>\n",
       "      <td>1631</td>\n",
       "      <td>2924</td>\n",
       "      <td>15</td>\n",
       "      <td>1050</td>\n",
       "      <td>3059</td>\n",
       "      <td>5</td>\n",
       "      <td>12842.0</td>\n",
       "      <td>6.0</td>\n",
       "      <td>6.0</td>\n",
       "    </tr>\n",
       "    <tr>\n",
       "      <th>top</th>\n",
       "      <td>Amazon</td>\n",
       "      <td>L4</td>\n",
       "      <td>Software Engineer</td>\n",
       "      <td>Seattle, WA</td>\n",
       "      <td>Full Stack</td>\n",
       "      <td>Male</td>\n",
       "      <td>188000.0</td>\n",
       "      <td>188000.0</td>\n",
       "      <td>188000.0</td>\n",
       "    </tr>\n",
       "    <tr>\n",
       "      <th>freq</th>\n",
       "      <td>8126</td>\n",
       "      <td>5014</td>\n",
       "      <td>41227</td>\n",
       "      <td>8701</td>\n",
       "      <td>11381</td>\n",
       "      <td>35698</td>\n",
       "      <td>22502.0</td>\n",
       "      <td>40212.0</td>\n",
       "      <td>32269.0</td>\n",
       "    </tr>\n",
       "  </tbody>\n",
       "</table>\n",
       "</div>"
      ],
      "text/plain": [
       "       company  level              title     location         tag gender  \\\n",
       "count    62637  62637              62637        62637       62637  62637   \n",
       "unique    1631   2924                 15         1050        3059      5   \n",
       "top     Amazon     L4  Software Engineer  Seattle, WA  Full Stack   Male   \n",
       "freq      8126   5014              41227         8701       11381  35698   \n",
       "\n",
       "        otherdetails      Race  Education  \n",
       "count        62637.0   62637.0    62637.0  \n",
       "unique       12842.0       6.0        6.0  \n",
       "top         188000.0  188000.0   188000.0  \n",
       "freq         22502.0   40212.0    32269.0  "
      ]
     },
     "execution_count": 23,
     "metadata": {},
     "output_type": "execute_result"
    }
   ],
   "source": [
    "df.describe(include = 'object')"
   ]
  },
  {
   "cell_type": "code",
   "execution_count": 27,
   "id": "b11d2756",
   "metadata": {},
   "outputs": [
    {
     "ename": "KeyError",
     "evalue": "\"['Race', 'Education'] not found in axis\"",
     "output_type": "error",
     "traceback": [
      "\u001b[1;31m---------------------------------------------------------------------------\u001b[0m",
      "\u001b[1;31mKeyError\u001b[0m                                  Traceback (most recent call last)",
      "Input \u001b[1;32mIn [27]\u001b[0m, in \u001b[0;36m<cell line: 4>\u001b[1;34m()\u001b[0m\n\u001b[0;32m      1\u001b[0m \u001b[38;5;66;03m# Las variables 'Race' y 'Education' no tiene mucho valor. Son valores numericos puestos como categóricos (pude cambiar formato)\u001b[39;00m\n\u001b[0;32m      2\u001b[0m \u001b[38;5;66;03m# Sin embargo, hay otras variables dummies que hacen mencion a estas observaciones. Serán borradas.\u001b[39;00m\n\u001b[0;32m      3\u001b[0m \u001b[38;5;66;03m# Las otras variables que tampoco aportan valor son 'cityid', 'dmaid' y 'rowNumber', las que tambien serán borradas\u001b[39;00m\n\u001b[1;32m----> 4\u001b[0m \u001b[43mdf\u001b[49m\u001b[38;5;241;43m.\u001b[39;49m\u001b[43mdrop\u001b[49m\u001b[43m(\u001b[49m\u001b[43m[\u001b[49m\u001b[38;5;124;43m'\u001b[39;49m\u001b[38;5;124;43mRace\u001b[39;49m\u001b[38;5;124;43m'\u001b[39;49m\u001b[43m,\u001b[49m\u001b[38;5;124;43m'\u001b[39;49m\u001b[38;5;124;43mEducation\u001b[39;49m\u001b[38;5;124;43m'\u001b[39;49m\u001b[43m]\u001b[49m\u001b[43m,\u001b[49m\u001b[43m \u001b[49m\u001b[43maxis\u001b[49m\u001b[43m \u001b[49m\u001b[38;5;241;43m=\u001b[39;49m\u001b[43m \u001b[49m\u001b[38;5;241;43m1\u001b[39;49m\u001b[43m,\u001b[49m\u001b[43m \u001b[49m\u001b[43minplace\u001b[49m\u001b[43m \u001b[49m\u001b[38;5;241;43m=\u001b[39;49m\u001b[43m \u001b[49m\u001b[38;5;28;43;01mTrue\u001b[39;49;00m\u001b[43m)\u001b[49m\n",
      "File \u001b[1;32m~\\anaconda3\\lib\\site-packages\\pandas\\util\\_decorators.py:311\u001b[0m, in \u001b[0;36mdeprecate_nonkeyword_arguments.<locals>.decorate.<locals>.wrapper\u001b[1;34m(*args, **kwargs)\u001b[0m\n\u001b[0;32m    305\u001b[0m \u001b[38;5;28;01mif\u001b[39;00m \u001b[38;5;28mlen\u001b[39m(args) \u001b[38;5;241m>\u001b[39m num_allow_args:\n\u001b[0;32m    306\u001b[0m     warnings\u001b[38;5;241m.\u001b[39mwarn(\n\u001b[0;32m    307\u001b[0m         msg\u001b[38;5;241m.\u001b[39mformat(arguments\u001b[38;5;241m=\u001b[39marguments),\n\u001b[0;32m    308\u001b[0m         \u001b[38;5;167;01mFutureWarning\u001b[39;00m,\n\u001b[0;32m    309\u001b[0m         stacklevel\u001b[38;5;241m=\u001b[39mstacklevel,\n\u001b[0;32m    310\u001b[0m     )\n\u001b[1;32m--> 311\u001b[0m \u001b[38;5;28;01mreturn\u001b[39;00m func(\u001b[38;5;241m*\u001b[39margs, \u001b[38;5;241m*\u001b[39m\u001b[38;5;241m*\u001b[39mkwargs)\n",
      "File \u001b[1;32m~\\anaconda3\\lib\\site-packages\\pandas\\core\\frame.py:4954\u001b[0m, in \u001b[0;36mDataFrame.drop\u001b[1;34m(self, labels, axis, index, columns, level, inplace, errors)\u001b[0m\n\u001b[0;32m   4806\u001b[0m \u001b[38;5;129m@deprecate_nonkeyword_arguments\u001b[39m(version\u001b[38;5;241m=\u001b[39m\u001b[38;5;28;01mNone\u001b[39;00m, allowed_args\u001b[38;5;241m=\u001b[39m[\u001b[38;5;124m\"\u001b[39m\u001b[38;5;124mself\u001b[39m\u001b[38;5;124m\"\u001b[39m, \u001b[38;5;124m\"\u001b[39m\u001b[38;5;124mlabels\u001b[39m\u001b[38;5;124m\"\u001b[39m])\n\u001b[0;32m   4807\u001b[0m \u001b[38;5;28;01mdef\u001b[39;00m \u001b[38;5;21mdrop\u001b[39m(\n\u001b[0;32m   4808\u001b[0m     \u001b[38;5;28mself\u001b[39m,\n\u001b[1;32m   (...)\u001b[0m\n\u001b[0;32m   4815\u001b[0m     errors: \u001b[38;5;28mstr\u001b[39m \u001b[38;5;241m=\u001b[39m \u001b[38;5;124m\"\u001b[39m\u001b[38;5;124mraise\u001b[39m\u001b[38;5;124m\"\u001b[39m,\n\u001b[0;32m   4816\u001b[0m ):\n\u001b[0;32m   4817\u001b[0m     \u001b[38;5;124;03m\"\"\"\u001b[39;00m\n\u001b[0;32m   4818\u001b[0m \u001b[38;5;124;03m    Drop specified labels from rows or columns.\u001b[39;00m\n\u001b[0;32m   4819\u001b[0m \n\u001b[1;32m   (...)\u001b[0m\n\u001b[0;32m   4952\u001b[0m \u001b[38;5;124;03m            weight  1.0     0.8\u001b[39;00m\n\u001b[0;32m   4953\u001b[0m \u001b[38;5;124;03m    \"\"\"\u001b[39;00m\n\u001b[1;32m-> 4954\u001b[0m     \u001b[38;5;28;01mreturn\u001b[39;00m \u001b[38;5;28;43msuper\u001b[39;49m\u001b[43m(\u001b[49m\u001b[43m)\u001b[49m\u001b[38;5;241;43m.\u001b[39;49m\u001b[43mdrop\u001b[49m\u001b[43m(\u001b[49m\n\u001b[0;32m   4955\u001b[0m \u001b[43m        \u001b[49m\u001b[43mlabels\u001b[49m\u001b[38;5;241;43m=\u001b[39;49m\u001b[43mlabels\u001b[49m\u001b[43m,\u001b[49m\n\u001b[0;32m   4956\u001b[0m \u001b[43m        \u001b[49m\u001b[43maxis\u001b[49m\u001b[38;5;241;43m=\u001b[39;49m\u001b[43maxis\u001b[49m\u001b[43m,\u001b[49m\n\u001b[0;32m   4957\u001b[0m \u001b[43m        \u001b[49m\u001b[43mindex\u001b[49m\u001b[38;5;241;43m=\u001b[39;49m\u001b[43mindex\u001b[49m\u001b[43m,\u001b[49m\n\u001b[0;32m   4958\u001b[0m \u001b[43m        \u001b[49m\u001b[43mcolumns\u001b[49m\u001b[38;5;241;43m=\u001b[39;49m\u001b[43mcolumns\u001b[49m\u001b[43m,\u001b[49m\n\u001b[0;32m   4959\u001b[0m \u001b[43m        \u001b[49m\u001b[43mlevel\u001b[49m\u001b[38;5;241;43m=\u001b[39;49m\u001b[43mlevel\u001b[49m\u001b[43m,\u001b[49m\n\u001b[0;32m   4960\u001b[0m \u001b[43m        \u001b[49m\u001b[43minplace\u001b[49m\u001b[38;5;241;43m=\u001b[39;49m\u001b[43minplace\u001b[49m\u001b[43m,\u001b[49m\n\u001b[0;32m   4961\u001b[0m \u001b[43m        \u001b[49m\u001b[43merrors\u001b[49m\u001b[38;5;241;43m=\u001b[39;49m\u001b[43merrors\u001b[49m\u001b[43m,\u001b[49m\n\u001b[0;32m   4962\u001b[0m \u001b[43m    \u001b[49m\u001b[43m)\u001b[49m\n",
      "File \u001b[1;32m~\\anaconda3\\lib\\site-packages\\pandas\\core\\generic.py:4267\u001b[0m, in \u001b[0;36mNDFrame.drop\u001b[1;34m(self, labels, axis, index, columns, level, inplace, errors)\u001b[0m\n\u001b[0;32m   4265\u001b[0m \u001b[38;5;28;01mfor\u001b[39;00m axis, labels \u001b[38;5;129;01min\u001b[39;00m axes\u001b[38;5;241m.\u001b[39mitems():\n\u001b[0;32m   4266\u001b[0m     \u001b[38;5;28;01mif\u001b[39;00m labels \u001b[38;5;129;01mis\u001b[39;00m \u001b[38;5;129;01mnot\u001b[39;00m \u001b[38;5;28;01mNone\u001b[39;00m:\n\u001b[1;32m-> 4267\u001b[0m         obj \u001b[38;5;241m=\u001b[39m \u001b[43mobj\u001b[49m\u001b[38;5;241;43m.\u001b[39;49m\u001b[43m_drop_axis\u001b[49m\u001b[43m(\u001b[49m\u001b[43mlabels\u001b[49m\u001b[43m,\u001b[49m\u001b[43m \u001b[49m\u001b[43maxis\u001b[49m\u001b[43m,\u001b[49m\u001b[43m \u001b[49m\u001b[43mlevel\u001b[49m\u001b[38;5;241;43m=\u001b[39;49m\u001b[43mlevel\u001b[49m\u001b[43m,\u001b[49m\u001b[43m \u001b[49m\u001b[43merrors\u001b[49m\u001b[38;5;241;43m=\u001b[39;49m\u001b[43merrors\u001b[49m\u001b[43m)\u001b[49m\n\u001b[0;32m   4269\u001b[0m \u001b[38;5;28;01mif\u001b[39;00m inplace:\n\u001b[0;32m   4270\u001b[0m     \u001b[38;5;28mself\u001b[39m\u001b[38;5;241m.\u001b[39m_update_inplace(obj)\n",
      "File \u001b[1;32m~\\anaconda3\\lib\\site-packages\\pandas\\core\\generic.py:4311\u001b[0m, in \u001b[0;36mNDFrame._drop_axis\u001b[1;34m(self, labels, axis, level, errors, consolidate, only_slice)\u001b[0m\n\u001b[0;32m   4309\u001b[0m         new_axis \u001b[38;5;241m=\u001b[39m axis\u001b[38;5;241m.\u001b[39mdrop(labels, level\u001b[38;5;241m=\u001b[39mlevel, errors\u001b[38;5;241m=\u001b[39merrors)\n\u001b[0;32m   4310\u001b[0m     \u001b[38;5;28;01melse\u001b[39;00m:\n\u001b[1;32m-> 4311\u001b[0m         new_axis \u001b[38;5;241m=\u001b[39m \u001b[43maxis\u001b[49m\u001b[38;5;241;43m.\u001b[39;49m\u001b[43mdrop\u001b[49m\u001b[43m(\u001b[49m\u001b[43mlabels\u001b[49m\u001b[43m,\u001b[49m\u001b[43m \u001b[49m\u001b[43merrors\u001b[49m\u001b[38;5;241;43m=\u001b[39;49m\u001b[43merrors\u001b[49m\u001b[43m)\u001b[49m\n\u001b[0;32m   4312\u001b[0m     indexer \u001b[38;5;241m=\u001b[39m axis\u001b[38;5;241m.\u001b[39mget_indexer(new_axis)\n\u001b[0;32m   4314\u001b[0m \u001b[38;5;66;03m# Case for non-unique axis\u001b[39;00m\n\u001b[0;32m   4315\u001b[0m \u001b[38;5;28;01melse\u001b[39;00m:\n",
      "File \u001b[1;32m~\\anaconda3\\lib\\site-packages\\pandas\\core\\indexes\\base.py:6644\u001b[0m, in \u001b[0;36mIndex.drop\u001b[1;34m(self, labels, errors)\u001b[0m\n\u001b[0;32m   6642\u001b[0m \u001b[38;5;28;01mif\u001b[39;00m mask\u001b[38;5;241m.\u001b[39many():\n\u001b[0;32m   6643\u001b[0m     \u001b[38;5;28;01mif\u001b[39;00m errors \u001b[38;5;241m!=\u001b[39m \u001b[38;5;124m\"\u001b[39m\u001b[38;5;124mignore\u001b[39m\u001b[38;5;124m\"\u001b[39m:\n\u001b[1;32m-> 6644\u001b[0m         \u001b[38;5;28;01mraise\u001b[39;00m \u001b[38;5;167;01mKeyError\u001b[39;00m(\u001b[38;5;124mf\u001b[39m\u001b[38;5;124m\"\u001b[39m\u001b[38;5;132;01m{\u001b[39;00m\u001b[38;5;28mlist\u001b[39m(labels[mask])\u001b[38;5;132;01m}\u001b[39;00m\u001b[38;5;124m not found in axis\u001b[39m\u001b[38;5;124m\"\u001b[39m)\n\u001b[0;32m   6645\u001b[0m     indexer \u001b[38;5;241m=\u001b[39m indexer[\u001b[38;5;241m~\u001b[39mmask]\n\u001b[0;32m   6646\u001b[0m \u001b[38;5;28;01mreturn\u001b[39;00m \u001b[38;5;28mself\u001b[39m\u001b[38;5;241m.\u001b[39mdelete(indexer)\n",
      "\u001b[1;31mKeyError\u001b[0m: \"['Race', 'Education'] not found in axis\""
     ]
    }
   ],
   "source": [
    "# Las variables 'Race' y 'Education' no tiene mucho valor. Son valores numericos puestos como categóricos (pude cambiar formato)\n",
    "# Sin embargo, hay otras variables dummies que hacen mencion a estas observaciones. Serán borradas.\n",
    "# Las otras variables que tampoco aportan valor son 'cityid', 'dmaid' y 'rowNumber', las que tambien serán borradas\n",
    "df.drop(['Race','Education'], axis = 1, inplace = True)"
   ]
  },
  {
   "cell_type": "code",
   "execution_count": 26,
   "id": "8e8af61b",
   "metadata": {},
   "outputs": [],
   "source": [
    "df.drop(['cityid', 'dmaid','rowNumber'], axis = 1, inplace = True)"
   ]
  },
  {
   "cell_type": "code",
   "execution_count": 47,
   "id": "4cccf1cc",
   "metadata": {},
   "outputs": [
    {
     "data": {
      "image/png": "[encoded data removed]",
      "text/plain": [
       "<Figure size 360x360 with 1 Axes>"
      ]
     },
     "metadata": {
      "needs_background": "light"
     },
     "output_type": "display_data"
    },
    {
     "data": {
      "image/png": "[encoded data removed]",
      "text/plain": [
       "<Figure size 360x360 with 1 Axes>"
      ]
     },
     "metadata": {
      "needs_background": "light"
     },
     "output_type": "display_data"
    },
    {
     "data": {
      "image/png": "[encoded data removed]",
      "text/plain": [
       "<Figure size 360x360 with 1 Axes>"
      ]
     },
     "metadata": {
      "needs_background": "light"
     },
     "output_type": "display_data"
    }
   ],
   "source": [
    "# Las variables 'yearsofexperience'\t'yearsatcompany' y\t'basesalary' tienen valores muy grandes. Hagamos unos graficos\n",
    "# para confirmar la situación..\n",
    "\n",
    "plt.figure(figsize = (5,5))\n",
    "sns.boxplot(y= df['yearsofexperience'])\n",
    "plt.title('Años de experiencia')\n",
    "\n",
    "plt.figure(figsize = (5,5))\n",
    "sns.boxplot(y= df['yearsatcompany'])\n",
    "plt.title('Distribución del sat_salario base')\n",
    "\n",
    "plt.figure(figsize = (5,5))\n",
    "sns.boxplot(y =df['basesalary'])\n",
    "plt.title('Distribución del salario base')\n",
    "\n",
    "plt.show()"
   ]
  },
  {
   "cell_type": "code",
   "execution_count": 48,
   "id": "6e2b7e6d",
   "metadata": {},
   "outputs": [],
   "source": [
    "# Como se ven en los graficos, tienen valores outliers que deben arreglarse\n",
    "from scipy.stats.mstats import winsorize"
   ]
  },
  {
   "cell_type": "code",
   "execution_count": 49,
   "id": "948df7ba",
   "metadata": {},
   "outputs": [],
   "source": [
    "lim_inferior = 0.05\n",
    "lim_superior = 0.05 #---------dejamos todo en el percentil 95\n",
    "\n",
    "col_to_winsorize = ['basesalary','yearsatcompany','yearsofexperience']\n",
    "\n",
    "for col in col_to_winsorize:\n",
    "    df[col] = winsorize(df[col], limits =[lim_inferior, lim_superior])"
   ]
  },
  {
   "cell_type": "code",
   "execution_count": 50,
   "id": "867e88f8",
   "metadata": {},
   "outputs": [
    {
     "data": {
      "image/png": "[encoded data removed]",
      "text/plain": [
       "<Figure size 360x360 with 1 Axes>"
      ]
     },
     "metadata": {
      "needs_background": "light"
     },
     "output_type": "display_data"
    },
    {
     "data": {
      "image/png": "[encoded data removed]",
      "text/plain": [
       "<Figure size 360x360 with 1 Axes>"
      ]
     },
     "metadata": {
      "needs_background": "light"
     },
     "output_type": "display_data"
    },
    {
     "data": {
      "image/png": "[encoded data removed]",
      "text/plain": [
       "<Figure size 360x360 with 1 Axes>"
      ]
     },
     "metadata": {
      "needs_background": "light"
     },
     "output_type": "display_data"
    }
   ],
   "source": [
    "plt.figure(figsize = (5,5))\n",
    "sns.boxplot(y= df['yearsofexperience'])\n",
    "plt.title('Años de experiencia')\n",
    "\n",
    "plt.figure(figsize = (5,5))\n",
    "sns.boxplot(y= df['yearsatcompany'])\n",
    "plt.title('Distribución del sat_salario base')\n",
    "\n",
    "plt.figure(figsize = (5,5))\n",
    "sns.boxplot(y =df['basesalary'])\n",
    "plt.title('Distribución del salario base')\n",
    "\n",
    "plt.show()\n",
    "#No se observan valores extremos"
   ]
  },
  {
   "cell_type": "code",
   "execution_count": 51,
   "id": "79b20b0c",
   "metadata": {},
   "outputs": [
    {
     "data": {
      "text/html": [
       "<div>\n",
       "<style scoped>\n",
       "    .dataframe tbody tr th:only-of-type {\n",
       "        vertical-align: middle;\n",
       "    }\n",
       "\n",
       "    .dataframe tbody tr th {\n",
       "        vertical-align: top;\n",
       "    }\n",
       "\n",
       "    .dataframe thead th {\n",
       "        text-align: right;\n",
       "    }\n",
       "</style>\n",
       "<table border=\"1\" class=\"dataframe\">\n",
       "  <thead>\n",
       "    <tr style=\"text-align: right;\">\n",
       "      <th></th>\n",
       "      <th>totalyearlycompensation</th>\n",
       "      <th>yearsofexperience</th>\n",
       "      <th>yearsatcompany</th>\n",
       "      <th>basesalary</th>\n",
       "      <th>stockgrantvalue</th>\n",
       "      <th>bonus</th>\n",
       "      <th>Masters_Degree</th>\n",
       "      <th>Bachelors_Degree</th>\n",
       "      <th>Doctorate_Degree</th>\n",
       "      <th>Highschool</th>\n",
       "      <th>Some_College</th>\n",
       "      <th>Race_Asian</th>\n",
       "      <th>Race_White</th>\n",
       "      <th>Race_Two_Or_More</th>\n",
       "      <th>Race_Black</th>\n",
       "      <th>Race_Hispanic</th>\n",
       "    </tr>\n",
       "  </thead>\n",
       "  <tbody>\n",
       "    <tr>\n",
       "      <th>count</th>\n",
       "      <td>6.263700e+04</td>\n",
       "      <td>62637.000000</td>\n",
       "      <td>62637.000000</td>\n",
       "      <td>62637.000000</td>\n",
       "      <td>6.263700e+04</td>\n",
       "      <td>62637.000000</td>\n",
       "      <td>62637.000000</td>\n",
       "      <td>62637.000000</td>\n",
       "      <td>62637.000000</td>\n",
       "      <td>62637.000000</td>\n",
       "      <td>62637.000000</td>\n",
       "      <td>62637.000000</td>\n",
       "      <td>62637.000000</td>\n",
       "      <td>62637.000000</td>\n",
       "      <td>62637.000000</td>\n",
       "      <td>62637.000000</td>\n",
       "    </tr>\n",
       "    <tr>\n",
       "      <th>mean</th>\n",
       "      <td>2.163082e+05</td>\n",
       "      <td>7.086665</td>\n",
       "      <td>2.500407</td>\n",
       "      <td>135081.252375</td>\n",
       "      <td>5.149019e+04</td>\n",
       "      <td>19335.491734</td>\n",
       "      <td>0.245717</td>\n",
       "      <td>0.201207</td>\n",
       "      <td>0.028785</td>\n",
       "      <td>0.005109</td>\n",
       "      <td>0.005668</td>\n",
       "      <td>0.187940</td>\n",
       "      <td>0.128215</td>\n",
       "      <td>0.012836</td>\n",
       "      <td>0.011016</td>\n",
       "      <td>0.018024</td>\n",
       "    </tr>\n",
       "    <tr>\n",
       "      <th>std</th>\n",
       "      <td>1.380341e+05</td>\n",
       "      <td>5.487934</td>\n",
       "      <td>2.548782</td>\n",
       "      <td>50815.982842</td>\n",
       "      <td>8.187654e+04</td>\n",
       "      <td>26781.835252</td>\n",
       "      <td>0.430515</td>\n",
       "      <td>0.400906</td>\n",
       "      <td>0.167203</td>\n",
       "      <td>0.071294</td>\n",
       "      <td>0.075070</td>\n",
       "      <td>0.390667</td>\n",
       "      <td>0.334332</td>\n",
       "      <td>0.112567</td>\n",
       "      <td>0.104378</td>\n",
       "      <td>0.133041</td>\n",
       "    </tr>\n",
       "    <tr>\n",
       "      <th>min</th>\n",
       "      <td>1.000000e+04</td>\n",
       "      <td>0.000000</td>\n",
       "      <td>0.000000</td>\n",
       "      <td>23000.000000</td>\n",
       "      <td>0.000000e+00</td>\n",
       "      <td>0.000000</td>\n",
       "      <td>0.000000</td>\n",
       "      <td>0.000000</td>\n",
       "      <td>0.000000</td>\n",
       "      <td>0.000000</td>\n",
       "      <td>0.000000</td>\n",
       "      <td>0.000000</td>\n",
       "      <td>0.000000</td>\n",
       "      <td>0.000000</td>\n",
       "      <td>0.000000</td>\n",
       "      <td>0.000000</td>\n",
       "    </tr>\n",
       "    <tr>\n",
       "      <th>25%</th>\n",
       "      <td>1.350000e+05</td>\n",
       "      <td>3.000000</td>\n",
       "      <td>0.000000</td>\n",
       "      <td>108000.000000</td>\n",
       "      <td>0.000000e+00</td>\n",
       "      <td>1000.000000</td>\n",
       "      <td>0.000000</td>\n",
       "      <td>0.000000</td>\n",
       "      <td>0.000000</td>\n",
       "      <td>0.000000</td>\n",
       "      <td>0.000000</td>\n",
       "      <td>0.000000</td>\n",
       "      <td>0.000000</td>\n",
       "      <td>0.000000</td>\n",
       "      <td>0.000000</td>\n",
       "      <td>0.000000</td>\n",
       "    </tr>\n",
       "    <tr>\n",
       "      <th>50%</th>\n",
       "      <td>1.880000e+05</td>\n",
       "      <td>6.000000</td>\n",
       "      <td>2.000000</td>\n",
       "      <td>140000.000000</td>\n",
       "      <td>2.500000e+04</td>\n",
       "      <td>14000.000000</td>\n",
       "      <td>0.000000</td>\n",
       "      <td>0.000000</td>\n",
       "      <td>0.000000</td>\n",
       "      <td>0.000000</td>\n",
       "      <td>0.000000</td>\n",
       "      <td>0.000000</td>\n",
       "      <td>0.000000</td>\n",
       "      <td>0.000000</td>\n",
       "      <td>0.000000</td>\n",
       "      <td>0.000000</td>\n",
       "    </tr>\n",
       "    <tr>\n",
       "      <th>75%</th>\n",
       "      <td>2.640000e+05</td>\n",
       "      <td>10.000000</td>\n",
       "      <td>4.000000</td>\n",
       "      <td>170000.000000</td>\n",
       "      <td>6.500000e+04</td>\n",
       "      <td>26000.000000</td>\n",
       "      <td>0.000000</td>\n",
       "      <td>0.000000</td>\n",
       "      <td>0.000000</td>\n",
       "      <td>0.000000</td>\n",
       "      <td>0.000000</td>\n",
       "      <td>0.000000</td>\n",
       "      <td>0.000000</td>\n",
       "      <td>0.000000</td>\n",
       "      <td>0.000000</td>\n",
       "      <td>0.000000</td>\n",
       "    </tr>\n",
       "    <tr>\n",
       "      <th>max</th>\n",
       "      <td>4.980000e+06</td>\n",
       "      <td>20.000000</td>\n",
       "      <td>9.000000</td>\n",
       "      <td>223000.000000</td>\n",
       "      <td>2.800000e+06</td>\n",
       "      <td>1000000.000000</td>\n",
       "      <td>1.000000</td>\n",
       "      <td>1.000000</td>\n",
       "      <td>1.000000</td>\n",
       "      <td>1.000000</td>\n",
       "      <td>1.000000</td>\n",
       "      <td>1.000000</td>\n",
       "      <td>1.000000</td>\n",
       "      <td>1.000000</td>\n",
       "      <td>1.000000</td>\n",
       "      <td>1.000000</td>\n",
       "    </tr>\n",
       "  </tbody>\n",
       "</table>\n",
       "</div>"
      ],
      "text/plain": [
       "       totalyearlycompensation  yearsofexperience  yearsatcompany  \\\n",
       "count             6.263700e+04       62637.000000    62637.000000   \n",
       "mean              2.163082e+05           7.086665        2.500407   \n",
       "std               1.380341e+05           5.487934        2.548782   \n",
       "min               1.000000e+04           0.000000        0.000000   \n",
       "25%               1.350000e+05           3.000000        0.000000   \n",
       "50%               1.880000e+05           6.000000        2.000000   \n",
       "75%               2.640000e+05          10.000000        4.000000   \n",
       "max               4.980000e+06          20.000000        9.000000   \n",
       "\n",
       "          basesalary  stockgrantvalue           bonus  Masters_Degree  \\\n",
       "count   62637.000000     6.263700e+04    62637.000000    62637.000000   \n",
       "mean   135081.252375     5.149019e+04    19335.491734        0.245717   \n",
       "std     50815.982842     8.187654e+04    26781.835252        0.430515   \n",
       "min     23000.000000     0.000000e+00        0.000000        0.000000   \n",
       "25%    108000.000000     0.000000e+00     1000.000000        0.000000   \n",
       "50%    140000.000000     2.500000e+04    14000.000000        0.000000   \n",
       "75%    170000.000000     6.500000e+04    26000.000000        0.000000   \n",
       "max    223000.000000     2.800000e+06  1000000.000000        1.000000   \n",
       "\n",
       "       Bachelors_Degree  Doctorate_Degree    Highschool  Some_College  \\\n",
       "count      62637.000000      62637.000000  62637.000000  62637.000000   \n",
       "mean           0.201207          0.028785      0.005109      0.005668   \n",
       "std            0.400906          0.167203      0.071294      0.075070   \n",
       "min            0.000000          0.000000      0.000000      0.000000   \n",
       "25%            0.000000          0.000000      0.000000      0.000000   \n",
       "50%            0.000000          0.000000      0.000000      0.000000   \n",
       "75%            0.000000          0.000000      0.000000      0.000000   \n",
       "max            1.000000          1.000000      1.000000      1.000000   \n",
       "\n",
       "         Race_Asian    Race_White  Race_Two_Or_More    Race_Black  \\\n",
       "count  62637.000000  62637.000000      62637.000000  62637.000000   \n",
       "mean       0.187940      0.128215          0.012836      0.011016   \n",
       "std        0.390667      0.334332          0.112567      0.104378   \n",
       "min        0.000000      0.000000          0.000000      0.000000   \n",
       "25%        0.000000      0.000000          0.000000      0.000000   \n",
       "50%        0.000000      0.000000          0.000000      0.000000   \n",
       "75%        0.000000      0.000000          0.000000      0.000000   \n",
       "max        1.000000      1.000000          1.000000      1.000000   \n",
       "\n",
       "       Race_Hispanic  \n",
       "count   62637.000000  \n",
       "mean        0.018024  \n",
       "std         0.133041  \n",
       "min         0.000000  \n",
       "25%         0.000000  \n",
       "50%         0.000000  \n",
       "75%         0.000000  \n",
       "max         1.000000  "
      ]
     },
     "execution_count": 51,
     "metadata": {},
     "output_type": "execute_result"
    }
   ],
   "source": [
    "df.describe()"
   ]
  },
  {
   "cell_type": "code",
   "execution_count": 87,
   "id": "d7a17745",
   "metadata": {},
   "outputs": [
    {
     "data": {
      "text/html": [
       "<div>\n",
       "<style scoped>\n",
       "    .dataframe tbody tr th:only-of-type {\n",
       "        vertical-align: middle;\n",
       "    }\n",
       "\n",
       "    .dataframe tbody tr th {\n",
       "        vertical-align: top;\n",
       "    }\n",
       "\n",
       "    .dataframe thead th {\n",
       "        text-align: right;\n",
       "    }\n",
       "</style>\n",
       "<table border=\"1\" class=\"dataframe\">\n",
       "  <thead>\n",
       "    <tr style=\"text-align: right;\">\n",
       "      <th></th>\n",
       "      <th>company</th>\n",
       "      <th>level</th>\n",
       "      <th>title</th>\n",
       "      <th>location</th>\n",
       "      <th>tag</th>\n",
       "      <th>gender</th>\n",
       "      <th>otherdetails</th>\n",
       "    </tr>\n",
       "  </thead>\n",
       "  <tbody>\n",
       "    <tr>\n",
       "      <th>count</th>\n",
       "      <td>62637</td>\n",
       "      <td>62637</td>\n",
       "      <td>62637</td>\n",
       "      <td>62637</td>\n",
       "      <td>62637</td>\n",
       "      <td>62637</td>\n",
       "      <td>62637.0</td>\n",
       "    </tr>\n",
       "    <tr>\n",
       "      <th>unique</th>\n",
       "      <td>1631</td>\n",
       "      <td>2924</td>\n",
       "      <td>15</td>\n",
       "      <td>1050</td>\n",
       "      <td>3059</td>\n",
       "      <td>5</td>\n",
       "      <td>12842.0</td>\n",
       "    </tr>\n",
       "    <tr>\n",
       "      <th>top</th>\n",
       "      <td>Amazon</td>\n",
       "      <td>L4</td>\n",
       "      <td>Software Engineer</td>\n",
       "      <td>Seattle, WA</td>\n",
       "      <td>Full Stack</td>\n",
       "      <td>Male</td>\n",
       "      <td>188000.0</td>\n",
       "    </tr>\n",
       "    <tr>\n",
       "      <th>freq</th>\n",
       "      <td>8126</td>\n",
       "      <td>5014</td>\n",
       "      <td>41227</td>\n",
       "      <td>8701</td>\n",
       "      <td>11381</td>\n",
       "      <td>35698</td>\n",
       "      <td>22502.0</td>\n",
       "    </tr>\n",
       "  </tbody>\n",
       "</table>\n",
       "</div>"
      ],
      "text/plain": [
       "       company  level              title     location         tag gender  \\\n",
       "count    62637  62637              62637        62637       62637  62637   \n",
       "unique    1631   2924                 15         1050        3059      5   \n",
       "top     Amazon     L4  Software Engineer  Seattle, WA  Full Stack   Male   \n",
       "freq      8126   5014              41227         8701       11381  35698   \n",
       "\n",
       "        otherdetails  \n",
       "count        62637.0  \n",
       "unique       12842.0  \n",
       "top         188000.0  \n",
       "freq         22502.0  "
      ]
     },
     "execution_count": 87,
     "metadata": {},
     "output_type": "execute_result"
    }
   ],
   "source": [
    "df.describe(include = 'object')"
   ]
  },
  {
   "cell_type": "markdown",
   "id": "aa16151b",
   "metadata": {},
   "source": [
    "### 4. Busquedas de Insights"
   ]
  },
  {
   "cell_type": "code",
   "execution_count": 52,
   "id": "1421d457",
   "metadata": {},
   "outputs": [],
   "source": [
    "# Ahora que ya tenemos el dataset limpio, procedamos con en analisis de datos de este dataset.\n",
    "# Continuaremos con la subdivision de este dataset estudiando a los \"faang\" (facebook,apple, amazon, netflix y google)\n",
    "# Estudiemos como se comporta la variable 'basesalary' versus 'yearsofexperience', 'gender', 'title', 'company', \n",
    "# y 'raza'"
   ]
  },
  {
   "cell_type": "code",
   "execution_count": 99,
   "id": "855378b2",
   "metadata": {},
   "outputs": [],
   "source": [
    "def faang_company(company):\n",
    "    faang = ['Facebook','Apple','Amazon','Netflix', 'Google']\n",
    "    if company in faang:\n",
    "        return 1\n",
    "    else:\n",
    "        return 0    "
   ]
  },
  {
   "cell_type": "code",
   "execution_count": 100,
   "id": "15ff8210",
   "metadata": {},
   "outputs": [],
   "source": [
    "df['faang'] = df['company'].apply(faang_company)"
   ]
  },
  {
   "cell_type": "code",
   "execution_count": 102,
   "id": "454ec02b",
   "metadata": {},
   "outputs": [],
   "source": [
    "df_faang = df[df['faang'] ==1]"
   ]
  },
  {
   "cell_type": "code",
   "execution_count": 119,
   "id": "ae44c333",
   "metadata": {},
   "outputs": [
    {
     "data": {
      "image/png": "[encoded data removed]",
      "text/plain": [
       "<Figure size 1440x720 with 2 Axes>"
      ]
     },
     "metadata": {
      "needs_background": "light"
     },
     "output_type": "display_data"
    }
   ],
   "source": [
    "# # ¿Como se distribuyen los años de experiencia y el salario base?\n",
    "plt.figure(figsize = (20,10))\n",
    "plt.subplot(1,2,1)\n",
    "sns.distplot(df_faang['yearsofexperience'])\n",
    "plt.title('Años de experiencia')\n",
    "\n",
    "plt.subplot(1,2,2)\n",
    "sns.distplot(df_faang['bonus'])\n",
    "plt.title('Distribución del salario base')\n",
    "\n",
    "plt.show()"
   ]
  },
  {
   "cell_type": "code",
   "execution_count": 128,
   "id": "551957ae",
   "metadata": {},
   "outputs": [
    {
     "data": {
      "image/png": "[encoded data removed]",
      "text/plain": [
       "<Figure size 720x720 with 1 Axes>"
      ]
     },
     "metadata": {
      "needs_background": "light"
     },
     "output_type": "display_data"
    }
   ],
   "source": [
    "f,ax = plt.subplots(figsize = (10,10))\n",
    "sns.regplot(data = df_faang.sample(500), x ='basesalary', y='yearsofexperience')\n",
    "plt.title('Relacion del sueldo base con los años de experiencia')\n",
    "plt.show()\n",
    "# Se puede apreciar que hay una relacion directa entre ambas variables, lo cual sería logico. A mas tiempo de experiencia,\n",
    "# Mayor sueldo"
   ]
  },
  {
   "cell_type": "code",
   "execution_count": 143,
   "id": "0ea21ba3",
   "metadata": {},
   "outputs": [
    {
     "data": {
      "text/plain": [
       "gender\n",
       "188000.0    139228.308191\n",
       "Female      143479.034769\n",
       "Male        145979.658633\n",
       "Other       150042.105263\n",
       "Name: basesalary, dtype: float64"
      ]
     },
     "execution_count": 143,
     "metadata": {},
     "output_type": "execute_result"
    }
   ],
   "source": [
    "df_faang.groupby('gender')['basesalary'].mean()\n",
    "#¿Quien es el grupo '188000'?"
   ]
  },
  {
   "cell_type": "code",
   "execution_count": 149,
   "id": "548de8c0",
   "metadata": {},
   "outputs": [
    {
     "data": {
      "text/plain": [
       "Male        10165\n",
       "188000.0     5555\n",
       "Female       1927\n",
       "Other          95\n",
       "Name: gender, dtype: int64"
      ]
     },
     "execution_count": 149,
     "metadata": {},
     "output_type": "execute_result"
    }
   ],
   "source": [
    "df_faang['gender'].value_counts()\n",
    "# es un grupo considerable de personas como para borrarlas o asignarlas a otro genero...(&%&/#$%#$#\"#\"$#\"!!!!\")"
   ]
  },
  {
   "cell_type": "code",
   "execution_count": 151,
   "id": "71e532ca",
   "metadata": {},
   "outputs": [
    {
     "data": {
      "image/png": "[encoded data removed]",
      "text/plain": [
       "<Figure size 432x288 with 1 Axes>"
      ]
     },
     "metadata": {
      "needs_background": "light"
     },
     "output_type": "display_data"
    }
   ],
   "source": [
    "#Veamos como se comporta esta variable con el salario base graficamente mejor...\n",
    "df_faang.groupby('gender')['basesalary'].mean().plot(kind = 'bar')\n",
    "plt.show()\n",
    "# El grupo 188000 entorpece cualquier analisis, como para saber si estas empresas en general hacen alguna distincion por\n",
    "# genero a la hora de pagar sueldos..."
   ]
  },
  {
   "cell_type": "code",
   "execution_count": null,
   "id": "c6836acc",
   "metadata": {},
   "outputs": [],
   "source": [
    "# Dejando el sinsabor anterior, veamos como les va segun su educacion...\n"
   ]
  },
  {
   "cell_type": "code",
   "execution_count": 152,
   "id": "f38916f6",
   "metadata": {},
   "outputs": [
    {
     "data": {
      "text/plain": [
       "<AxesSubplot:xlabel='Bachelors_Degree'>"
      ]
     },
     "execution_count": 152,
     "metadata": {},
     "output_type": "execute_result"
    },
    {
     "data": {
      "image/png": "[encoded data removed]",
      "text/plain": [
       "<Figure size 432x288 with 1 Axes>"
      ]
     },
     "metadata": {
      "needs_background": "light"
     },
     "output_type": "display_data"
    }
   ],
   "source": [
    "df_faang.groupby('Bachelors_Degree')['basesalary'].mean().plot(kind = 'bar')\n",
    "#Bachelors_Degree\n",
    "#0    144465.547157\n",
    "#1    139264.320221\n",
    "#Name: basesalary, dtype: float64"
   ]
  },
  {
   "cell_type": "code",
   "execution_count": 153,
   "id": "00af13b3",
   "metadata": {},
   "outputs": [
    {
     "data": {
      "text/plain": [
       "<AxesSubplot:xlabel='Masters_Degree'>"
      ]
     },
     "execution_count": 153,
     "metadata": {},
     "output_type": "execute_result"
    },
    {
     "data": {
      "image/png": "[encoded data removed]",
      "text/plain": [
       "<Figure size 432x288 with 1 Axes>"
      ]
     },
     "metadata": {
      "needs_background": "light"
     },
     "output_type": "display_data"
    }
   ],
   "source": [
    "df_faang.groupby(['Masters_Degree'])['basesalary'].mean().plot(kind = 'bar')\n",
    "#Masters_Degree\n",
    "#0    140620.450840\n",
    "#1    152991.620112\n",
    "#Name: basesalary, dtype: float64"
   ]
  },
  {
   "cell_type": "code",
   "execution_count": 155,
   "id": "7a4cac14",
   "metadata": {},
   "outputs": [
    {
     "data": {
      "text/plain": [
       "<AxesSubplot:xlabel='Doctorate_Degree'>"
      ]
     },
     "execution_count": 155,
     "metadata": {},
     "output_type": "execute_result"
    },
    {
     "data": {
      "image/png": "[encoded data removed]",
      "text/plain": [
       "<Figure size 432x288 with 1 Axes>"
      ]
     },
     "metadata": {
      "needs_background": "light"
     },
     "output_type": "display_data"
    }
   ],
   "source": [
    "df_faang.groupby(['Doctorate_Degree'])['basesalary'].mean().plot(kind = 'bar')\n",
    "#Doctorate_Degree\n",
    "#0    142319.641273\n",
    "#1    173274.562584\n",
    "#Name: basesalary, dtype: float64"
   ]
  },
  {
   "cell_type": "code",
   "execution_count": 158,
   "id": "1d23ca8f",
   "metadata": {},
   "outputs": [
    {
     "data": {
      "text/plain": [
       "<AxesSubplot:xlabel='Highschool'>"
      ]
     },
     "execution_count": 158,
     "metadata": {},
     "output_type": "execute_result"
    },
    {
     "data": {
      "image/png": "[encoded data removed]",
      "text/plain": [
       "<Figure size 432x288 with 1 Axes>"
      ]
     },
     "metadata": {
      "needs_background": "light"
     },
     "output_type": "display_data"
    }
   ],
   "source": [
    "df_faang.groupby(['Highschool'])['basesalary'].mean().plot(kind = 'bar')\n",
    "#Highschool\n",
    "#0    143616.558985\n",
    "#1    143494.117647\n",
    "#Name: basesalary, dtype: float64"
   ]
  },
  {
   "cell_type": "code",
   "execution_count": 160,
   "id": "b40e1375",
   "metadata": {},
   "outputs": [
    {
     "data": {
      "text/plain": [
       "<AxesSubplot:xlabel='Some_College'>"
      ]
     },
     "execution_count": 160,
     "metadata": {},
     "output_type": "execute_result"
    },
    {
     "data": {
      "image/png": "[encoded data removed]",
      "text/plain": [
       "<Figure size 432x288 with 1 Axes>"
      ]
     },
     "metadata": {
      "needs_background": "light"
     },
     "output_type": "display_data"
    }
   ],
   "source": [
    "df_faang.groupby(['Some_College'])['basesalary'].mean().plot(kind = 'bar')\n",
    "#Some_College\n",
    "#0    143540.331786\n",
    "#1    161675.675676\n",
    "#Name: basesalary, dtype: float64"
   ]
  },
  {
   "cell_type": "code",
   "execution_count": null,
   "id": "4b89f8bf",
   "metadata": {},
   "outputs": [],
   "source": [
    "# Según se aprecia, los sueldos de que no tienen some college, saliendo del high school no tienen una diferencia versus quienes\n",
    "# empiezan un bachelor, master o doctorado. Quienes poseen un doctorado claramente perciben un mejor sueldo\n",
    "# pero para empezar, se puede considerar a alguien con conocimientos saliendo del high school, bachelor."
   ]
  },
  {
   "cell_type": "markdown",
   "id": "6c3f2de6",
   "metadata": {},
   "source": [
    "AHORA DESCANSA, ALMUERZA, TOMATE UN TE.....YA SEGUIRAS!"
   ]
  },
  {
   "cell_type": "code",
   "execution_count": 173,
   "id": "7fa1c0bf",
   "metadata": {},
   "outputs": [
    {
     "data": {
      "text/plain": [
       "<AxesSubplot:xlabel='title'>"
      ]
     },
     "execution_count": 173,
     "metadata": {},
     "output_type": "execute_result"
    },
    {
     "data": {
      "image/png": "[encoded data removed]",
      "text/plain": [
       "<Figure size 432x288 with 1 Axes>"
      ]
     },
     "metadata": {
      "needs_background": "light"
     },
     "output_type": "display_data"
    }
   ],
   "source": [
    "df_faang.groupby(['title'], sort = True)['basesalary'].mean().sort_values(ascending = False).plot(kind = 'bar')\n",
    "#title\n",
    "#Business Analyst                110655.813953\n",
    "#Data Scientist                  148749.216301\n",
    "#Hardware Engineer               154199.376947\n",
    "#Human Resources                 124614.173228\n",
    "#Management Consultant           152424.242424\n",
    "#Marketing                       142618.604651\n",
    "#Mechanical Engineer             148069.767442\n",
    "#Product Designer                152569.565217\n",
    "#Product Manager                 147753.470790\n",
    "#Recruiter                       118714.953271\n",
    "#Sales                           120742.424242\n",
    "#Software Engineer               141070.602913\n",
    "#Software Engineering Manager    162776.090828\n",
    "#Solution Architect              137769.035533\n",
    "#Technical Program Manager       155587.301587\n",
    "#Name: basesalary, dtype: float64\n",
    "\n",
    "# Hay que estudiar para ser un software engineering manager parece.... :P"
   ]
  },
  {
   "cell_type": "code",
   "execution_count": 176,
   "id": "6a23cb90",
   "metadata": {},
   "outputs": [
    {
     "data": {
      "text/plain": [
       "<AxesSubplot:xlabel='company'>"
      ]
     },
     "execution_count": 176,
     "metadata": {},
     "output_type": "execute_result"
    },
    {
     "data": {
      "image/png": "[encoded data removed]",
      "text/plain": [
       "<Figure size 432x288 with 1 Axes>"
      ]
     },
     "metadata": {
      "needs_background": "light"
     },
     "output_type": "display_data"
    }
   ],
   "source": [
    "# ¿Quien paga mejor?\n",
    "df_faang.groupby(['company'], sort = True)['basesalary'].mean().sort_values(ascending = False).plot(kind = 'bar')\n",
    "#company\n",
    "#Amazon      128592.788826\n",
    "#Apple       156962.258383\n",
    "#Facebook    166155.742475\n",
    "#Google      145925.046189\n",
    "#Netflix     209361.940299\n",
    "#Name: basesalary, dtype: float64\n",
    "\n",
    "# Netflix paga bastante bien, aunque habria que pensar con todas las personas que han cancelado su suscripcion, mantienen\n",
    "# ese nivel de sueldo..."
   ]
  },
  {
   "cell_type": "code",
   "execution_count": 177,
   "id": "4d464604",
   "metadata": {},
   "outputs": [],
   "source": [
    "#¿Hay alguna distincion por raza?\n",
    "#Race_Asian\tRace_White\tRace_Two_Or_More\tRace_Black\tRace_Hispanic"
   ]
  },
  {
   "cell_type": "code",
   "execution_count": 182,
   "id": "aa9f3390",
   "metadata": {},
   "outputs": [
    {
     "data": {
      "text/plain": [
       "<AxesSubplot:xlabel='Race_Asian'>"
      ]
     },
     "execution_count": 182,
     "metadata": {},
     "output_type": "execute_result"
    },
    {
     "data": {
      "image/png": "[encoded data removed]",
      "text/plain": [
       "<Figure size 432x288 with 1 Axes>"
      ]
     },
     "metadata": {
      "needs_background": "light"
     },
     "output_type": "display_data"
    }
   ],
   "source": [
    "df_faang.groupby(['Race_Asian'])['basesalary'].mean().sort_values(ascending = False).plot(kind = 'bar')\n",
    "#Race_Asian\n",
    "#0    143495.475613\n",
    "#1    144193.664272\n",
    "#Name: basesalary, dtype: float64"
   ]
  },
  {
   "cell_type": "code",
   "execution_count": 184,
   "id": "ddcda370",
   "metadata": {},
   "outputs": [
    {
     "data": {
      "text/plain": [
       "<AxesSubplot:xlabel='Race_White'>"
      ]
     },
     "execution_count": 184,
     "metadata": {},
     "output_type": "execute_result"
    },
    {
     "data": {
      "image/png": "[encoded data removed]",
      "text/plain": [
       "<Figure size 432x288 with 1 Axes>"
      ]
     },
     "metadata": {
      "needs_background": "light"
     },
     "output_type": "display_data"
    }
   ],
   "source": [
    "df_faang.groupby(['Race_White'])['basesalary'].mean().sort_values(ascending = False).plot(kind = 'bar')\n",
    "#Race_White\n",
    "#0    142507.555485\n",
    "#1    152434.628975\n",
    "#Name: basesalary, dtype: float64"
   ]
  },
  {
   "cell_type": "code",
   "execution_count": 188,
   "id": "bd3ab72c",
   "metadata": {},
   "outputs": [
    {
     "data": {
      "text/plain": [
       "<AxesSubplot:xlabel='Race_Two_Or_More'>"
      ]
     },
     "execution_count": 188,
     "metadata": {},
     "output_type": "execute_result"
    },
    {
     "data": {
      "image/png": "[encoded data removed]",
      "text/plain": [
       "<Figure size 432x288 with 1 Axes>"
      ]
     },
     "metadata": {
      "needs_background": "light"
     },
     "output_type": "display_data"
    }
   ],
   "source": [
    "df_faang.groupby(['Race_Two_Or_More'])['basesalary'].mean().sort_values(ascending = False).plot(kind = 'bar')\n",
    "#Race_Two_Or_More\n",
    "#0    143554.105005\n",
    "#1    148566.210046\n",
    "#Name: basesalary, dtype: float64"
   ]
  },
  {
   "cell_type": "code",
   "execution_count": 191,
   "id": "729d53f0",
   "metadata": {},
   "outputs": [
    {
     "ename": "SyntaxError",
     "evalue": "invalid syntax (4263650139.py, line 3)",
     "output_type": "error",
     "traceback": [
      "\u001b[1;36m  Input \u001b[1;32mIn [191]\u001b[1;36m\u001b[0m\n\u001b[1;33m    0    143605.909127\u001b[0m\n\u001b[1;37m         ^\u001b[0m\n\u001b[1;31mSyntaxError\u001b[0m\u001b[1;31m:\u001b[0m invalid syntax\n"
     ]
    }
   ],
   "source": [
    "df_faang.groupby(['Race_Black'])['basesalary'].mean().sort_values(ascending = False).plot(kind = 'bar')\n",
    "#Race_Black\n",
    "#0    143605.909127\n",
    "#1    144603.351955\n",
    "#Name: basesalary, dtype: float64"
   ]
  },
  {
   "cell_type": "code",
   "execution_count": 198,
   "id": "3f1a6d4e",
   "metadata": {},
   "outputs": [
    {
     "data": {
      "text/plain": [
       "<AxesSubplot:xlabel='Race_Hispanic'>"
      ]
     },
     "execution_count": 198,
     "metadata": {},
     "output_type": "execute_result"
    },
    {
     "data": {
      "image/png": "[encoded data removed]",
      "text/plain": [
       "<Figure size 432x288 with 1 Axes>"
      ]
     },
     "metadata": {
      "needs_background": "light"
     },
     "output_type": "display_data"
    }
   ],
   "source": [
    "df_faang.groupby(['Race_Hispanic'])['basesalary'].mean().sort_values(ascending = False).plot(kind = 'bar')\n",
    "#Race_Hispanic\n",
    "#0    143664.631851\n",
    "#1    141095.238095\n",
    "#Name: basesalary, dtype: float64"
   ]
  },
  {
   "cell_type": "code",
   "execution_count": 199,
   "id": "560e8c03",
   "metadata": {},
   "outputs": [],
   "source": [
    "# La supremacia blanca vence de nuevo, la gente blanca percibe mejor sueldo seguido de los mestizos (dos o mas razas),\n",
    "# los asiaticos, los negros y finalmente, los hispaños."
   ]
  },
  {
   "cell_type": "code",
   "execution_count": 202,
   "id": "bccfee84",
   "metadata": {},
   "outputs": [
    {
     "data": {
      "image/png": "[encoded data removed]",
      "text/plain": [
       "<Figure size 432x288 with 1 Axes>"
      ]
     },
     "metadata": {
      "needs_background": "light"
     },
     "output_type": "display_data"
    }
   ],
   "source": [
    "# Participacion por compañia\n",
    "sns.countplot(data = df_faang, x = 'company', order = df_faang['company'].value_counts().index)\n",
    "plt.title('Distribución de encuestados por compañia')\n",
    "plt.show()"
   ]
  },
  {
   "cell_type": "code",
   "execution_count": 204,
   "id": "d9261fa5",
   "metadata": {},
   "outputs": [
    {
     "data": {
      "text/plain": [
       "Amazon      8126\n",
       "Google      4330\n",
       "Facebook    2990\n",
       "Apple       2028\n",
       "Netflix      268\n",
       "Name: company, dtype: int64"
      ]
     },
     "execution_count": 204,
     "metadata": {},
     "output_type": "execute_result"
    }
   ],
   "source": [
    "df_faang['company'].value_counts()"
   ]
  },
  {
   "cell_type": "markdown",
   "id": "98462345",
   "metadata": {},
   "source": [
    "### 5. Conclusiones"
   ]
  },
  {
   "cell_type": "code",
   "execution_count": null,
   "id": "6433c27e",
   "metadata": {},
   "outputs": [],
   "source": []
  }
 ],
 "metadata": {
  "kernelspec": {
   "display_name": "Python 3 (ipykernel)",
   "language": "python",
   "name": "python3"
  },
  "language_info": {
   "codemirror_mode": {
    "name": "ipython",
    "version": 3
   },
   "file_extension": ".py",
   "mimetype": "text/x-python",
   "name": "python",
   "nbconvert_exporter": "python",
   "pygments_lexer": "ipython3",
   "version": "3.9.12"
  }
 },
 "nbformat": 4,
 "nbformat_minor": 5
}
